{
 "cells": [
  {
   "cell_type": "code",
   "execution_count": 110,
   "id": "9d3c2b69",
   "metadata": {},
   "outputs": [],
   "source": [
    "import pandas as pd\n",
    "from sqlalchemy import create_engine\n",
    "from sqlalchemy.ext.declarative import declarative_base\n",
    "from sqlalchemy import Column, Integer, String, Float\n",
    "import psycopg2\n",
    "Base = declarative_base()"
   ]
  },
  {
   "cell_type": "code",
   "execution_count": 111,
   "id": "a5836b5b",
   "metadata": {},
   "outputs": [],
   "source": [
    "#Import CSVs and Creating DataFrames\n",
    "housing = pd.read_csv('reduced_realty_df.csv')\n",
    "# housing.head()\n",
    "\n",
    "careers_url = \"web_scrape_top-100-careers.html\"\n",
    "careers_mega = pd.read_html(careers_url)\n",
    "careers = careers_mega[2]\n",
    "# careers.head()\n",
    "\n",
    "employment_data = pd.read_excel(\"state_M2021_dl.xlsx\")\n",
    "# employment_data.head()"
   ]
  },
  {
   "cell_type": "code",
   "execution_count": 112,
   "id": "ee7c7afb",
   "metadata": {},
   "outputs": [
    {
     "data": {
      "text/plain": [
       "Index(['status', 'price', 'city', 'state', 'sold_date', 'house_size'], dtype='object')"
      ]
     },
     "execution_count": 112,
     "metadata": {},
     "output_type": "execute_result"
    }
   ],
   "source": [
    "housing.columns"
   ]
  },
  {
   "cell_type": "code",
   "execution_count": 113,
   "id": "db0e76ad",
   "metadata": {
    "scrolled": true
   },
   "outputs": [],
   "source": [
    "#Groupby and Rename Columns\n",
    "housing_by_state = housing.groupby('state').mean()\n",
    "housing_by_state = housing_by_state[['price', 'house_size']]\n",
    "housing_by_state.columns = ['Average_Price', 'Average_Square_Feet']\n",
    "housing_by_state['Average_Price'] = round(housing_by_state['Average_Price'], 2)\n",
    "# housing_by_state.head()"
   ]
  },
  {
   "cell_type": "code",
   "execution_count": 114,
   "id": "a3a08e11",
   "metadata": {},
   "outputs": [],
   "source": [
    "employment_df = employment_data[['OCC_TITLE', 'A_MEAN', 'AREA_TITLE']]\n",
    "# employment_df.head()"
   ]
  },
  {
   "cell_type": "code",
   "execution_count": 115,
   "id": "8500ff66",
   "metadata": {},
   "outputs": [],
   "source": [
    "# Edit Occupation Names\n",
    "employment_df = employment_df.replace(to_replace='Dentists, General', value='Dentist')\n",
    "employment_df = employment_df.replace(to_replace='Registered Nurses', value='Registered Nurse')\n",
    "employment_df = employment_df.replace(to_replace='Pharmacists', value='Pharmacist')\n",
    "employment_df = employment_df.replace(to_replace='Computer Systems Analysts', value='Computer Systems Analyst')\n",
    "employment_df = employment_df.replace(to_replace='Family Medicine Physicians', value='Physician')"
   ]
  },
  {
   "cell_type": "code",
   "execution_count": 116,
   "id": "6d29fd6e",
   "metadata": {},
   "outputs": [],
   "source": [
    "#TODO Merge Tables\n",
    "    # Table 1 Jobs: Job Title, Location, Salary (Range), (Unemployment)\n",
    "    # Table 2 Housing: Housing Price, Location, Rooms, Acreage, Sq Ft-age\n",
    "Jobs_df = careers.merge(employment_df, left_on=1, right_on='OCC_TITLE', how='inner')\n",
    "Jobs_df = Jobs_df[[1, 4, 'A_MEAN', 'AREA_TITLE']]\n",
    "Jobs_df.columns = ['Occupation', 'National Unemployment Rate', 'State Mean Income', 'State']\n",
    "# Jobs_df.head()"
   ]
  },
  {
   "cell_type": "code",
   "execution_count": 117,
   "id": "5d8dca41",
   "metadata": {},
   "outputs": [],
   "source": [
    "#TODO Export into PGAdmin4"
   ]
  },
  {
   "cell_type": "code",
   "execution_count": 118,
   "id": "80d8232f",
   "metadata": {},
   "outputs": [],
   "source": [
    "rds_connection_string = \"postgres:postgres@localhost:5432/Employment_ForHousing\"\n",
    "engine = create_engine(f'postgresql://{rds_connection_string}', pool_size=10, max_overflow=20)"
   ]
  },
  {
   "cell_type": "code",
   "execution_count": 121,
   "id": "6b80d49c",
   "metadata": {},
   "outputs": [
    {
     "name": "stdout",
     "output_type": "stream",
     "text": [
      "Table created successfully........\n"
     ]
    }
   ],
   "source": [
    "#Establishing the connection\n",
    "conn = psycopg2.connect(\n",
    "   database=\"Employment_ForHousing\", user='postgres', password='postgres', host='127.0.0.1', port= '5432'\n",
    ")\n",
    "#Creating a cursor object using the cursor() method\n",
    "cursor = conn.cursor()\n",
    "\n",
    "#Droping table if already exists.\n",
    "cursor.execute(\"DROP TABLE IF EXISTS jobs\")\n",
    "\n",
    "\n",
    "#Creating table as per requirement\n",
    "sql ='''CREATE TABLE jobs(\n",
    "   id INTEGER NOT NULL PRIMARY KEY,\n",
    "   Occupation VARCHAR(255),\n",
    "   National_Unemployment_Rate FLOAT,\n",
    "   State_Mean_Income FLOAT,\n",
    "   State VARCHAR(255)\n",
    ")'''\n",
    "cursor.execute(sql)\n",
    "print(\"Table created successfully........\")\n",
    "conn.commit()\n",
    "#Closing the connection\n",
    "conn.close()"
   ]
  },
  {
   "cell_type": "code",
   "execution_count": 122,
   "id": "1b4d7270",
   "metadata": {},
   "outputs": [
    {
     "name": "stdout",
     "output_type": "stream",
     "text": [
      "Table created successfully........\n"
     ]
    }
   ],
   "source": [
    "#Establishing the connection\n",
    "conn = psycopg2.connect(\n",
    "   database=\"Employment_ForHousing\", user='postgres', password='postgres', host='127.0.0.1', port= '5432'\n",
    ")\n",
    "#Creating a cursor object using the cursor() method\n",
    "cursor = conn.cursor()\n",
    "\n",
    "#Droping table if already exists.\n",
    "cursor.execute(\"DROP TABLE IF EXISTS housing\")\n",
    "\n",
    "\n",
    "#Creating table as per requirement\n",
    "sql ='''CREATE TABLE housing(\n",
    "   id INTEGER NOT NULL PRIMARY KEY,\n",
    "   Average_Price FLOAT,\n",
    "   Average_Square_Feet FLOAT,\n",
    "   State VARCHAR(255)\n",
    ")'''\n",
    "cursor.execute(sql)\n",
    "print(\"Table created successfully........\")\n",
    "conn.commit()\n",
    "#Closing the connection\n",
    "conn.close()"
   ]
  },
  {
   "cell_type": "code",
   "execution_count": 123,
   "id": "2d2c6610",
   "metadata": {},
   "outputs": [],
   "source": [
    "# Use pandas to load DataFrame into database\n",
    "Jobs_df.to_sql(name='jobs', con=engine.connect(), if_exists='replace', index=False) \n",
    "housing_by_state.to_sql(name='housing', con=engine.connect(), if_exists='replace', index=False)\n"
   ]
  },
  {
   "cell_type": "code",
   "execution_count": 124,
   "id": "bf8c56af",
   "metadata": {},
   "outputs": [
    {
     "data": {
      "text/html": [
       "<div>\n",
       "<style scoped>\n",
       "    .dataframe tbody tr th:only-of-type {\n",
       "        vertical-align: middle;\n",
       "    }\n",
       "\n",
       "    .dataframe tbody tr th {\n",
       "        vertical-align: top;\n",
       "    }\n",
       "\n",
       "    .dataframe thead th {\n",
       "        text-align: right;\n",
       "    }\n",
       "</style>\n",
       "<table border=\"1\" class=\"dataframe\">\n",
       "  <thead>\n",
       "    <tr style=\"text-align: right;\">\n",
       "      <th></th>\n",
       "      <th>Occupation</th>\n",
       "      <th>National Unemployment Rate</th>\n",
       "      <th>State Mean Income</th>\n",
       "      <th>State</th>\n",
       "    </tr>\n",
       "  </thead>\n",
       "  <tbody>\n",
       "    <tr>\n",
       "      <th>0</th>\n",
       "      <td>Dentist</td>\n",
       "      <td>0.7%</td>\n",
       "      <td>176910</td>\n",
       "      <td>Alabama</td>\n",
       "    </tr>\n",
       "    <tr>\n",
       "      <th>1</th>\n",
       "      <td>Dentist</td>\n",
       "      <td>0.7%</td>\n",
       "      <td>168390</td>\n",
       "      <td>Alaska</td>\n",
       "    </tr>\n",
       "    <tr>\n",
       "      <th>2</th>\n",
       "      <td>Dentist</td>\n",
       "      <td>0.7%</td>\n",
       "      <td>175030</td>\n",
       "      <td>Arizona</td>\n",
       "    </tr>\n",
       "    <tr>\n",
       "      <th>3</th>\n",
       "      <td>Dentist</td>\n",
       "      <td>0.7%</td>\n",
       "      <td>184540</td>\n",
       "      <td>Arkansas</td>\n",
       "    </tr>\n",
       "    <tr>\n",
       "      <th>4</th>\n",
       "      <td>Dentist</td>\n",
       "      <td>0.7%</td>\n",
       "      <td>165950</td>\n",
       "      <td>California</td>\n",
       "    </tr>\n",
       "  </tbody>\n",
       "</table>\n",
       "</div>"
      ],
      "text/plain": [
       "  Occupation National Unemployment Rate State Mean Income       State\n",
       "0    Dentist                       0.7%            176910     Alabama\n",
       "1    Dentist                       0.7%            168390      Alaska\n",
       "2    Dentist                       0.7%            175030     Arizona\n",
       "3    Dentist                       0.7%            184540    Arkansas\n",
       "4    Dentist                       0.7%            165950  California"
      ]
     },
     "execution_count": 124,
     "metadata": {},
     "output_type": "execute_result"
    }
   ],
   "source": [
    "pd.read_sql_query(\"SELECT * FROM jobs\", con=engine).head()"
   ]
  },
  {
   "cell_type": "code",
   "execution_count": 125,
   "id": "cf3d5478",
   "metadata": {},
   "outputs": [
    {
     "data": {
      "text/html": [
       "<div>\n",
       "<style scoped>\n",
       "    .dataframe tbody tr th:only-of-type {\n",
       "        vertical-align: middle;\n",
       "    }\n",
       "\n",
       "    .dataframe tbody tr th {\n",
       "        vertical-align: top;\n",
       "    }\n",
       "\n",
       "    .dataframe thead th {\n",
       "        text-align: right;\n",
       "    }\n",
       "</style>\n",
       "<table border=\"1\" class=\"dataframe\">\n",
       "  <thead>\n",
       "    <tr style=\"text-align: right;\">\n",
       "      <th></th>\n",
       "      <th>Average_Price</th>\n",
       "      <th>Average_Square_Feet</th>\n",
       "    </tr>\n",
       "  </thead>\n",
       "  <tbody>\n",
       "    <tr>\n",
       "      <th>0</th>\n",
       "      <td>427500.45</td>\n",
       "      <td>2031.921645</td>\n",
       "    </tr>\n",
       "    <tr>\n",
       "      <th>1</th>\n",
       "      <td>1110065.96</td>\n",
       "      <td>2283.397881</td>\n",
       "    </tr>\n",
       "    <tr>\n",
       "      <th>2</th>\n",
       "      <td>596461.02</td>\n",
       "      <td>2269.087580</td>\n",
       "    </tr>\n",
       "    <tr>\n",
       "      <th>3</th>\n",
       "      <td>333490.00</td>\n",
       "      <td>1500.000000</td>\n",
       "    </tr>\n",
       "    <tr>\n",
       "      <th>4</th>\n",
       "      <td>790566.40</td>\n",
       "      <td>2858.399378</td>\n",
       "    </tr>\n",
       "  </tbody>\n",
       "</table>\n",
       "</div>"
      ],
      "text/plain": [
       "   Average_Price  Average_Square_Feet\n",
       "0      427500.45          2031.921645\n",
       "1     1110065.96          2283.397881\n",
       "2      596461.02          2269.087580\n",
       "3      333490.00          1500.000000\n",
       "4      790566.40          2858.399378"
      ]
     },
     "execution_count": 125,
     "metadata": {},
     "output_type": "execute_result"
    }
   ],
   "source": [
    "pd.read_sql_query(\"SELECT * FROM housing\", con=engine).head()"
   ]
  }
 ],
 "metadata": {
  "kernelspec": {
   "display_name": "Python 3 (ipykernel)",
   "language": "python",
   "name": "python3"
  },
  "language_info": {
   "codemirror_mode": {
    "name": "ipython",
    "version": 3
   },
   "file_extension": ".py",
   "mimetype": "text/x-python",
   "name": "python",
   "nbconvert_exporter": "python",
   "pygments_lexer": "ipython3",
   "version": "3.9.7"
  }
 },
 "nbformat": 4,
 "nbformat_minor": 5
}
